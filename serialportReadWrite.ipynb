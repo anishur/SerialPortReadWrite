{
 "cells": [
  {
   "cell_type": "code",
   "execution_count": 23,
   "id": "d4e79bdc-d31a-4583-b312-31025a6a41ee",
   "metadata": {},
   "outputs": [],
   "source": [
    "import serial"
   ]
  },
  {
   "cell_type": "code",
   "execution_count": 24,
   "id": "6c53e3cb-42d3-442b-8bc9-bbea699de4d1",
   "metadata": {},
   "outputs": [],
   "source": [
    "import json"
   ]
  },
  {
   "cell_type": "code",
   "execution_count": 25,
   "id": "8e2fd18e-d769-4202-9fba-4ddeefae903e",
   "metadata": {},
   "outputs": [],
   "source": [
    "import time"
   ]
  },
  {
   "cell_type": "code",
   "execution_count": 26,
   "id": "5f480ffe-4a6b-4d17-a08b-c209c3c781b8",
   "metadata": {},
   "outputs": [],
   "source": [
    "ser = serial.Serial('COM7', 9600, timeout=10, parity=serial.PARITY_EVEN, rtscts=1, xonxoff = False)"
   ]
  },
  {
   "cell_type": "code",
   "execution_count": 27,
   "id": "7f0ea085-22fc-4c62-8cca-b475e6b72650",
   "metadata": {},
   "outputs": [],
   "source": [
    "s = ser.read(100)"
   ]
  },
  {
   "cell_type": "code",
   "execution_count": 28,
   "id": "d4ce48aa-4ebd-4edd-9e14-492f6886fb20",
   "metadata": {},
   "outputs": [],
   "source": [
    "line = ser.readline()"
   ]
  },
  {
   "cell_type": "code",
   "execution_count": 29,
   "id": "6dcda324-9eb4-41eb-9327-3e724148831c",
   "metadata": {},
   "outputs": [
    {
     "name": "stdout",
     "output_type": "stream",
     "text": [
      "b''\n"
     ]
    }
   ],
   "source": [
    "print(line)"
   ]
  },
  {
   "cell_type": "code",
   "execution_count": 30,
   "id": "a27784e5-dbda-457e-a474-7aa88f88a595",
   "metadata": {},
   "outputs": [
    {
     "name": "stdout",
     "output_type": "stream",
     "text": [
      "COM7\n"
     ]
    }
   ],
   "source": [
    "print(ser.name)"
   ]
  },
  {
   "cell_type": "code",
   "execution_count": 31,
   "id": "f27b54a4-baa4-41cb-a180-3daf071c6f24",
   "metadata": {},
   "outputs": [],
   "source": [
    "val = 0"
   ]
  },
  {
   "cell_type": "code",
   "execution_count": 32,
   "id": "101f491d-7abb-48c8-a4e2-5f83eae1bd7e",
   "metadata": {},
   "outputs": [],
   "source": [
    "command = ''"
   ]
  },
  {
   "cell_type": "code",
   "execution_count": 33,
   "id": "6bb04473-5bc7-48b9-9205-9a4f981d60e4",
   "metadata": {},
   "outputs": [],
   "source": [
    "time.sleep(1.8)"
   ]
  },
  {
   "cell_type": "code",
   "execution_count": 34,
   "id": "06022651-4fce-4eaf-8b8c-8602e0b47315",
   "metadata": {},
   "outputs": [],
   "source": [
    "command = str('getData')"
   ]
  },
  {
   "cell_type": "code",
   "execution_count": 35,
   "id": "b203d998-e713-48f0-83e7-b75029140825",
   "metadata": {},
   "outputs": [],
   "source": [
    "command += str('\\n') "
   ]
  },
  {
   "cell_type": "code",
   "execution_count": 36,
   "id": "63048042-8dd9-43e1-b044-b95ed291f96a",
   "metadata": {},
   "outputs": [],
   "source": [
    "val = ser.write(command.encode(encoding='ascii', errors='strict'))"
   ]
  },
  {
   "cell_type": "code",
   "execution_count": 37,
   "id": "6084faef-a09b-4a73-80bc-0161c4accac3",
   "metadata": {},
   "outputs": [],
   "source": [
    "in_data = ''"
   ]
  },
  {
   "cell_type": "code",
   "execution_count": 38,
   "id": "3d915676-246f-4d3b-83f3-d0f8a12a9c4d",
   "metadata": {},
   "outputs": [],
   "source": [
    "in_data = ser.read_until(b'}')"
   ]
  },
  {
   "cell_type": "code",
   "execution_count": 39,
   "id": "d4ae3334-9528-4efa-910f-930a269288b5",
   "metadata": {},
   "outputs": [
    {
     "name": "stdout",
     "output_type": "stream",
     "text": [
      "b'V\\xfd'\n"
     ]
    }
   ],
   "source": [
    "print(in_data)"
   ]
  },
  {
   "cell_type": "code",
   "execution_count": 40,
   "id": "07ce5358-22c3-4cc0-9fe2-c8e9a4ace63a",
   "metadata": {},
   "outputs": [
    {
     "data": {
      "text/plain": [
       "2"
      ]
     },
     "execution_count": 40,
     "metadata": {},
     "output_type": "execute_result"
    }
   ],
   "source": [
    "len(in_data)"
   ]
  },
  {
   "cell_type": "code",
   "execution_count": 42,
   "id": "d95f13d3-21e5-4b0a-9896-30c832830382",
   "metadata": {},
   "outputs": [],
   "source": [
    "#print(json.dumps(json.loads(in_data.decode()), indent=4))"
   ]
  },
  {
   "cell_type": "code",
   "execution_count": 41,
   "id": "15d34cee-01a4-491f-b05b-1e7af03422aa",
   "metadata": {},
   "outputs": [],
   "source": [
    "ser.close()"
   ]
  }
 ],
 "metadata": {
  "kernelspec": {
   "display_name": "Python 3 (ipykernel)",
   "language": "python",
   "name": "python3"
  },
  "language_info": {
   "codemirror_mode": {
    "name": "ipython",
    "version": 3
   },
   "file_extension": ".py",
   "mimetype": "text/x-python",
   "name": "python",
   "nbconvert_exporter": "python",
   "pygments_lexer": "ipython3",
   "version": "3.10.9"
  }
 },
 "nbformat": 4,
 "nbformat_minor": 5
}
